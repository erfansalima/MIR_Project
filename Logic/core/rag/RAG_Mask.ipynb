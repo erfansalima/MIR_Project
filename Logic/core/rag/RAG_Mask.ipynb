{
 "metadata": {
  "accelerator": "GPU",
  "colab": {
   "gpuType": "T4",
   "provenance": []
  },
  "kernelspec": {
   "name": "python3",
   "display_name": "Python 3",
   "language": "python"
  },
  "language_info": {
   "name": "python",
   "version": "3.10.13",
   "mimetype": "text/x-python",
   "codemirror_mode": {
    "name": "ipython",
    "version": 3
   },
   "pygments_lexer": "ipython3",
   "nbconvert_exporter": "python",
   "file_extension": ".py"
  },
  "widgets": {
   "application/vnd.jupyter.widget-state+json": {
    "001ae07ad4654f36a51934fc1b42be32": {
     "model_module": "@jupyter-widgets/base",
     "model_module_version": "1.2.0",
     "model_name": "LayoutModel",
     "state": {
      "_model_module": "@jupyter-widgets/base",
      "_model_module_version": "1.2.0",
      "_model_name": "LayoutModel",
      "_view_count": null,
      "_view_module": "@jupyter-widgets/base",
      "_view_module_version": "1.2.0",
      "_view_name": "LayoutView",
      "align_content": null,
      "align_items": null,
      "align_self": null,
      "border": null,
      "bottom": null,
      "display": null,
      "flex": null,
      "flex_flow": null,
      "grid_area": null,
      "grid_auto_columns": null,
      "grid_auto_flow": null,
      "grid_auto_rows": null,
      "grid_column": null,
      "grid_gap": null,
      "grid_row": null,
      "grid_template_areas": null,
      "grid_template_columns": null,
      "grid_template_rows": null,
      "height": null,
      "justify_content": null,
      "justify_items": null,
      "left": null,
      "margin": null,
      "max_height": null,
      "max_width": null,
      "min_height": null,
      "min_width": null,
      "object_fit": null,
      "object_position": null,
      "order": null,
      "overflow": null,
      "overflow_x": null,
      "overflow_y": null,
      "padding": null,
      "right": null,
      "top": null,
      "visibility": null,
      "width": null
     }
    },
    "1eef87d0268b4ac7a0960f0304113994": {
     "model_module": "@jupyter-widgets/base",
     "model_module_version": "1.2.0",
     "model_name": "LayoutModel",
     "state": {
      "_model_module": "@jupyter-widgets/base",
      "_model_module_version": "1.2.0",
      "_model_name": "LayoutModel",
      "_view_count": null,
      "_view_module": "@jupyter-widgets/base",
      "_view_module_version": "1.2.0",
      "_view_name": "LayoutView",
      "align_content": null,
      "align_items": null,
      "align_self": null,
      "border": null,
      "bottom": null,
      "display": null,
      "flex": null,
      "flex_flow": null,
      "grid_area": null,
      "grid_auto_columns": null,
      "grid_auto_flow": null,
      "grid_auto_rows": null,
      "grid_column": null,
      "grid_gap": null,
      "grid_row": null,
      "grid_template_areas": null,
      "grid_template_columns": null,
      "grid_template_rows": null,
      "height": null,
      "justify_content": null,
      "justify_items": null,
      "left": null,
      "margin": null,
      "max_height": null,
      "max_width": null,
      "min_height": null,
      "min_width": null,
      "object_fit": null,
      "object_position": null,
      "order": null,
      "overflow": null,
      "overflow_x": null,
      "overflow_y": null,
      "padding": null,
      "right": null,
      "top": null,
      "visibility": null,
      "width": null
     }
    },
    "459bb3a35c574737a695b3e2d3e609a9": {
     "model_module": "@jupyter-widgets/controls",
     "model_module_version": "1.5.0",
     "model_name": "FloatProgressModel",
     "state": {
      "_dom_classes": [],
      "_model_module": "@jupyter-widgets/controls",
      "_model_module_version": "1.5.0",
      "_model_name": "FloatProgressModel",
      "_view_count": null,
      "_view_module": "@jupyter-widgets/controls",
      "_view_module_version": "1.5.0",
      "_view_name": "ProgressView",
      "bar_style": "success",
      "description": "",
      "description_tooltip": null,
      "layout": "IPY_MODEL_1eef87d0268b4ac7a0960f0304113994",
      "max": 8,
      "min": 0,
      "orientation": "horizontal",
      "style": "IPY_MODEL_c9691dc55fc84e819d1dc0bbc19afe87",
      "value": 8
     }
    },
    "5c0022b886284914be87b6228459e325": {
     "model_module": "@jupyter-widgets/controls",
     "model_module_version": "1.5.0",
     "model_name": "DescriptionStyleModel",
     "state": {
      "_model_module": "@jupyter-widgets/controls",
      "_model_module_version": "1.5.0",
      "_model_name": "DescriptionStyleModel",
      "_view_count": null,
      "_view_module": "@jupyter-widgets/base",
      "_view_module_version": "1.2.0",
      "_view_name": "StyleView",
      "description_width": ""
     }
    },
    "7126cd7d519441278252013816472b58": {
     "model_module": "@jupyter-widgets/controls",
     "model_module_version": "1.5.0",
     "model_name": "HBoxModel",
     "state": {
      "_dom_classes": [],
      "_model_module": "@jupyter-widgets/controls",
      "_model_module_version": "1.5.0",
      "_model_name": "HBoxModel",
      "_view_count": null,
      "_view_module": "@jupyter-widgets/controls",
      "_view_module_version": "1.5.0",
      "_view_name": "HBoxView",
      "box_style": "",
      "children": [
       "IPY_MODEL_9f28a42abc804a5e97edd39d19fac347",
       "IPY_MODEL_459bb3a35c574737a695b3e2d3e609a9",
       "IPY_MODEL_95d80492b2be4005a7752a84c7a84bef"
      ],
      "layout": "IPY_MODEL_001ae07ad4654f36a51934fc1b42be32"
     }
    },
    "95d80492b2be4005a7752a84c7a84bef": {
     "model_module": "@jupyter-widgets/controls",
     "model_module_version": "1.5.0",
     "model_name": "HTMLModel",
     "state": {
      "_dom_classes": [],
      "_model_module": "@jupyter-widgets/controls",
      "_model_module_version": "1.5.0",
      "_model_name": "HTMLModel",
      "_view_count": null,
      "_view_module": "@jupyter-widgets/controls",
      "_view_module_version": "1.5.0",
      "_view_name": "HTMLView",
      "description": "",
      "description_tooltip": null,
      "layout": "IPY_MODEL_ef05a78cdd174ee987b53c114310fde3",
      "placeholder": "​",
      "style": "IPY_MODEL_5c0022b886284914be87b6228459e325",
      "value": " 8/8 [01:28&lt;00:00, 10.13s/it]"
     }
    },
    "9f28a42abc804a5e97edd39d19fac347": {
     "model_module": "@jupyter-widgets/controls",
     "model_module_version": "1.5.0",
     "model_name": "HTMLModel",
     "state": {
      "_dom_classes": [],
      "_model_module": "@jupyter-widgets/controls",
      "_model_module_version": "1.5.0",
      "_model_name": "HTMLModel",
      "_view_count": null,
      "_view_module": "@jupyter-widgets/controls",
      "_view_module_version": "1.5.0",
      "_view_name": "HTMLView",
      "description": "",
      "description_tooltip": null,
      "layout": "IPY_MODEL_c7bdaba6b09e401c80c3c8a292648682",
      "placeholder": "​",
      "style": "IPY_MODEL_da3b93f3ee5940e89c1bbc7044c10520",
      "value": "Loading checkpoint shards: 100%"
     }
    },
    "c7bdaba6b09e401c80c3c8a292648682": {
     "model_module": "@jupyter-widgets/base",
     "model_module_version": "1.2.0",
     "model_name": "LayoutModel",
     "state": {
      "_model_module": "@jupyter-widgets/base",
      "_model_module_version": "1.2.0",
      "_model_name": "LayoutModel",
      "_view_count": null,
      "_view_module": "@jupyter-widgets/base",
      "_view_module_version": "1.2.0",
      "_view_name": "LayoutView",
      "align_content": null,
      "align_items": null,
      "align_self": null,
      "border": null,
      "bottom": null,
      "display": null,
      "flex": null,
      "flex_flow": null,
      "grid_area": null,
      "grid_auto_columns": null,
      "grid_auto_flow": null,
      "grid_auto_rows": null,
      "grid_column": null,
      "grid_gap": null,
      "grid_row": null,
      "grid_template_areas": null,
      "grid_template_columns": null,
      "grid_template_rows": null,
      "height": null,
      "justify_content": null,
      "justify_items": null,
      "left": null,
      "margin": null,
      "max_height": null,
      "max_width": null,
      "min_height": null,
      "min_width": null,
      "object_fit": null,
      "object_position": null,
      "order": null,
      "overflow": null,
      "overflow_x": null,
      "overflow_y": null,
      "padding": null,
      "right": null,
      "top": null,
      "visibility": null,
      "width": null
     }
    },
    "c9691dc55fc84e819d1dc0bbc19afe87": {
     "model_module": "@jupyter-widgets/controls",
     "model_module_version": "1.5.0",
     "model_name": "ProgressStyleModel",
     "state": {
      "_model_module": "@jupyter-widgets/controls",
      "_model_module_version": "1.5.0",
      "_model_name": "ProgressStyleModel",
      "_view_count": null,
      "_view_module": "@jupyter-widgets/base",
      "_view_module_version": "1.2.0",
      "_view_name": "StyleView",
      "bar_color": null,
      "description_width": ""
     }
    },
    "da3b93f3ee5940e89c1bbc7044c10520": {
     "model_module": "@jupyter-widgets/controls",
     "model_module_version": "1.5.0",
     "model_name": "DescriptionStyleModel",
     "state": {
      "_model_module": "@jupyter-widgets/controls",
      "_model_module_version": "1.5.0",
      "_model_name": "DescriptionStyleModel",
      "_view_count": null,
      "_view_module": "@jupyter-widgets/base",
      "_view_module_version": "1.2.0",
      "_view_name": "StyleView",
      "description_width": ""
     }
    },
    "ef05a78cdd174ee987b53c114310fde3": {
     "model_module": "@jupyter-widgets/base",
     "model_module_version": "1.2.0",
     "model_name": "LayoutModel",
     "state": {
      "_model_module": "@jupyter-widgets/base",
      "_model_module_version": "1.2.0",
      "_model_name": "LayoutModel",
      "_view_count": null,
      "_view_module": "@jupyter-widgets/base",
      "_view_module_version": "1.2.0",
      "_view_name": "LayoutView",
      "align_content": null,
      "align_items": null,
      "align_self": null,
      "border": null,
      "bottom": null,
      "display": null,
      "flex": null,
      "flex_flow": null,
      "grid_area": null,
      "grid_auto_columns": null,
      "grid_auto_flow": null,
      "grid_auto_rows": null,
      "grid_column": null,
      "grid_gap": null,
      "grid_row": null,
      "grid_template_areas": null,
      "grid_template_columns": null,
      "grid_template_rows": null,
      "height": null,
      "justify_content": null,
      "justify_items": null,
      "left": null,
      "margin": null,
      "max_height": null,
      "max_width": null,
      "min_height": null,
      "min_width": null,
      "object_fit": null,
      "object_position": null,
      "order": null,
      "overflow": null,
      "overflow_x": null,
      "overflow_y": null,
      "padding": null,
      "right": null,
      "top": null,
      "visibility": null,
      "width": null
     }
    }
   }
  },
  "kaggle": {
   "accelerator": "nvidiaTeslaT4",
   "dataSources": [],
   "dockerImageVersionId": 30733,
   "isInternetEnabled": true,
   "language": "python",
   "sourceType": "notebook",
   "isGpuEnabled": true
  }
 },
 "nbformat_minor": 4,
 "nbformat": 4,
 "cells": [
  {
   "cell_type": "markdown",
   "source": "# RAG",
   "metadata": {}
  },
  {
   "cell_type": "markdown",
   "source": "## Requirements",
   "metadata": {}
  },
  {
   "cell_type": "code",
   "source": "%%capture\n!pip install transformers accelerate bitsandbytes langchain langchain-community sentence-transformers faiss-gpu pandas gdown",
   "metadata": {
    "id": "D7qkZVjtPtCt",
    "execution": {
     "iopub.status.busy": "2024-06-25T23:28:13.669492Z",
     "iopub.execute_input": "2024-06-25T23:28:13.669888Z",
     "iopub.status.idle": "2024-06-25T23:28:27.139385Z",
     "shell.execute_reply.started": "2024-06-25T23:28:13.669849Z",
     "shell.execute_reply": "2024-06-25T23:28:27.137939Z"
    },
    "trusted": true
   },
   "execution_count": 18,
   "outputs": []
  },
  {
   "cell_type": "markdown",
   "source": "## Dataset",
   "metadata": {}
  },
  {
   "cell_type": "code",
   "source": "!gdown --fuzzy https://drive.google.com/file/d/1Lq2zVJlN_B4kUAu4VafQ4jXMIQiAR9vI/view?usp=sharing",
   "metadata": {
    "colab": {
     "base_uri": "https://localhost:8080/"
    },
    "id": "KU3LtV3zPtCu",
    "outputId": "b3a2df01-12a9-4afc-d353-deac5300376b",
    "execution": {
     "iopub.status.busy": "2024-06-25T23:28:27.141489Z",
     "iopub.execute_input": "2024-06-25T23:28:27.141838Z",
     "iopub.status.idle": "2024-06-25T23:28:30.991632Z",
     "shell.execute_reply.started": "2024-06-25T23:28:27.141797Z",
     "shell.execute_reply": "2024-06-25T23:28:30.990485Z"
    },
    "trusted": true
   },
   "execution_count": 19,
   "outputs": [
    {
     "name": "stdout",
     "text": "Downloading...\nFrom (original): https://drive.google.com/uc?id=1Lq2zVJlN_B4kUAu4VafQ4jXMIQiAR9vI\nFrom (redirected): https://drive.google.com/uc?id=1Lq2zVJlN_B4kUAu4VafQ4jXMIQiAR9vI&confirm=t&uuid=3a67c0cf-5e02-485b-a6c0-9b92bb41d894\nTo: /kaggle/working/IMDB_crawled.json\n100%|█████████████████████████████████████████| 292M/292M [00:01<00:00, 174MB/s]\n",
     "output_type": "stream"
    }
   ]
  },
  {
   "cell_type": "markdown",
   "source": "## Config",
   "metadata": {}
  },
  {
   "cell_type": "code",
   "source": "class Config:\n    EMBEDDING_MODEL_NAME=\"thenlper/gte-base\"\n    LLM_MODEL_NAME=\"HuggingFaceH4/zephyr-7b-beta\"\n    K = 5 # top K retrieval",
   "metadata": {
    "id": "MUqmeYExPtCv",
    "execution": {
     "iopub.status.busy": "2024-06-25T23:28:30.993004Z",
     "iopub.execute_input": "2024-06-25T23:28:30.993301Z",
     "iopub.status.idle": "2024-06-25T23:28:30.998365Z",
     "shell.execute_reply.started": "2024-06-25T23:28:30.993264Z",
     "shell.execute_reply": "2024-06-25T23:28:30.997365Z"
    },
    "trusted": true
   },
   "execution_count": 20,
   "outputs": []
  },
  {
   "cell_type": "markdown",
   "source": "## Preprocessing",
   "metadata": {}
  },
  {
   "cell_type": "code",
   "source": "import pandas as pd\n\ndf = pd.read_json('IMDB_crawled.json')",
   "metadata": {
    "id": "sjdAj0mnPtCv",
    "execution": {
     "iopub.status.busy": "2024-06-25T23:28:31.000915Z",
     "iopub.execute_input": "2024-06-25T23:28:31.001256Z",
     "iopub.status.idle": "2024-06-25T23:28:32.810686Z",
     "shell.execute_reply.started": "2024-06-25T23:28:31.001231Z",
     "shell.execute_reply": "2024-06-25T23:28:32.809690Z"
    },
    "trusted": true
   },
   "execution_count": 21,
   "outputs": []
  },
  {
   "cell_type": "code",
   "source": "import os\n\nos.makedirs('data', exist_ok=True)\n\n# preprocess your data and only store the needed data as the context window for embedding model is limited\ndf = df[['id', 'title', 'first_page_summary', 'genres']]\n\ndf.to_csv('data/imdb.csv', index=False)",
   "metadata": {
    "id": "jYJlIaTWPtCw",
    "execution": {
     "iopub.status.busy": "2024-06-25T23:28:32.811952Z",
     "iopub.execute_input": "2024-06-25T23:28:32.812249Z",
     "iopub.status.idle": "2024-06-25T23:28:32.978422Z",
     "shell.execute_reply.started": "2024-06-25T23:28:32.812222Z",
     "shell.execute_reply": "2024-06-25T23:28:32.977572Z"
    },
    "trusted": true
   },
   "execution_count": 22,
   "outputs": []
  },
  {
   "cell_type": "markdown",
   "source": "## Vectorizer",
   "metadata": {}
  },
  {
   "cell_type": "markdown",
   "source": "load the CSV file and vectorize the rows using HuggingFaceEmbeddings.\nStore the results using FAISS vectorstore.\nSave the vectorestore in a pickle file for future usages.",
   "metadata": {}
  },
  {
   "cell_type": "code",
   "source": "import pickle\nimport numpy as np\nfrom langchain.document_loaders.csv_loader import CSVLoader\nfrom langchain.vectorstores.utils import DistanceStrategy\nfrom langchain.vectorstores.faiss import FAISS\n\nfrom langchain_community.embeddings import HuggingFaceEmbeddings\n\n# load the csv\nfile_path = 'data/imdb.csv'\ncsv_loader = CSVLoader(file_path)\ndocuments = csv_loader.load()\n\n# load the embeddings model\nembeddings = HuggingFaceEmbeddings(model_name=Config.EMBEDDING_MODEL_NAME, \nencode_kwargs={\"normalize_embeddings\": True})\n\n# save embed the documents using the model in a vectorstore\nvectorstore = FAISS.from_documents(documents, embeddings)\n\nwith open(\"data/vectorstore.pkl\", \"wb\") as f:\n  pickle.dump(vectorstore, f)\n\nprint(\"Vectorstore saved to data/vectorstore.pkl\")",
   "metadata": {
    "colab": {
     "base_uri": "https://localhost:8080/"
    },
    "id": "-WafXxVaPtCw",
    "outputId": "6645aae7-6325-48f1-a631-e6349362cf7f",
    "execution": {
     "iopub.status.busy": "2024-06-25T23:28:32.979522Z",
     "iopub.execute_input": "2024-06-25T23:28:32.979783Z",
     "iopub.status.idle": "2024-06-25T23:29:18.096271Z",
     "shell.execute_reply.started": "2024-06-25T23:28:32.979760Z",
     "shell.execute_reply": "2024-06-25T23:29:18.094982Z"
    },
    "trusted": true
   },
   "execution_count": 23,
   "outputs": [
    {
     "name": "stderr",
     "text": "/opt/conda/lib/python3.10/site-packages/huggingface_hub/file_download.py:1132: FutureWarning: `resume_download` is deprecated and will be removed in version 1.0.0. Downloads always resume when possible. If you want to force a new download, use `force_download=True`.\n  warnings.warn(\n",
     "output_type": "stream"
    },
    {
     "name": "stdout",
     "text": "Vectorstore saved to data/vectorstore.pkl\n",
     "output_type": "stream"
    }
   ]
  },
  {
   "cell_type": "markdown",
   "source": "load the vectorstore as a retriever.",
   "metadata": {}
  },
  {
   "cell_type": "code",
   "source": "# with open(\"data/vectorstore.pkl\", \"rb\") as f:\n#     vectorstore = pickle.load(f)\n\n# load the retriever from the vectorstore\nretriever = vectorstore.as_retriever(top_k=5)",
   "metadata": {
    "id": "sN1YgCMGPtCw",
    "execution": {
     "iopub.status.busy": "2024-06-25T23:29:18.098712Z",
     "iopub.execute_input": "2024-06-25T23:29:18.099041Z",
     "iopub.status.idle": "2024-06-25T23:29:18.104298Z",
     "shell.execute_reply.started": "2024-06-25T23:29:18.099012Z",
     "shell.execute_reply": "2024-06-25T23:29:18.102875Z"
    },
    "trusted": true
   },
   "execution_count": 24,
   "outputs": []
  },
  {
   "cell_type": "markdown",
   "source": "## LLM",
   "metadata": {}
  },
  {
   "cell_type": "markdown",
   "source": "load the quantized LLM.",
   "metadata": {}
  },
  {
   "cell_type": "code",
   "source": "import torch\n\nfrom transformers import AutoTokenizer, AutoModelForCausalLM, BitsAndBytesConfig\nfrom transformers import pipeline\n\nfrom langchain_community.llms.huggingface_pipeline import HuggingFacePipeline\n\n# load the quantization config\nbnb_config = BitsAndBytesConfig()\n\nmodel = AutoModelForCausalLM.from_pretrained(Config.LLM_MODEL_NAME, quantization_config=bnb_config, device_map=\"cuda:0\")\ntokenizer = AutoTokenizer.from_pretrained(Config.LLM_MODEL_NAME)\n\n# init the pipeline\nREADER_LLM = pipeline(\"text-generation\", model=model, tokenizer=tokenizer, max_length=40000)\n\nllm = HuggingFacePipeline(\n    pipeline=READER_LLM,\n)",
   "metadata": {
    "colab": {
     "base_uri": "https://localhost:8080/",
     "height": 104,
     "referenced_widgets": [
      "7126cd7d519441278252013816472b58",
      "9f28a42abc804a5e97edd39d19fac347",
      "459bb3a35c574737a695b3e2d3e609a9",
      "95d80492b2be4005a7752a84c7a84bef",
      "001ae07ad4654f36a51934fc1b42be32",
      "c7bdaba6b09e401c80c3c8a292648682",
      "da3b93f3ee5940e89c1bbc7044c10520",
      "1eef87d0268b4ac7a0960f0304113994",
      "c9691dc55fc84e819d1dc0bbc19afe87",
      "ef05a78cdd174ee987b53c114310fde3",
      "5c0022b886284914be87b6228459e325"
     ]
    },
    "id": "JM1GYo6HR2MB",
    "outputId": "729df36c-bc0f-4167-e743-d582b35fd388",
    "execution": {
     "iopub.status.busy": "2024-06-25T23:29:18.105968Z",
     "iopub.execute_input": "2024-06-25T23:29:18.106366Z",
     "iopub.status.idle": "2024-06-25T23:29:55.301872Z",
     "shell.execute_reply.started": "2024-06-25T23:29:18.106324Z",
     "shell.execute_reply": "2024-06-25T23:29:55.300994Z"
    },
    "trusted": true
   },
   "execution_count": 25,
   "outputs": [
    {
     "output_type": "display_data",
     "data": {
      "text/plain": "Loading checkpoint shards:   0%|          | 0/8 [00:00<?, ?it/s]",
      "application/vnd.jupyter.widget-view+json": {
       "version_major": 2,
       "version_minor": 0,
       "model_id": "b4570f4a9e904924993497fc19fd5285"
      }
     },
     "metadata": {}
    }
   ]
  },
  {
   "cell_type": "markdown",
   "source": "initialize the prompt template for the query chain. query chain is used to get a query from the chat history. you may change the prompt as you like to get better results.",
   "metadata": {}
  },
  {
   "cell_type": "code",
   "source": "from langchain.prompts import PromptTemplate\nfrom langchain_core.output_parsers import StrOutputParser\nfrom langchain.chains import LLMChain\n\nclass LoggerStrOutputParser(StrOutputParser):\n    def parse(self, text: str) -> str:\n        # process the LLM output\n        print(f\"QUERY: {text}\")\n        return text\n\nquery_transform_prompt = PromptTemplate(\n    input_variables=[\"messages\"],\n    template=\"\"\"<|system|>You are a helpful assistant.\n{messages}\n<|user|>\ngive me the search query about the above conversation.\n<|assistant|>\"\"\"\n)\n\n# init the query chain\nquery_transforming_retriever_chain = LLMChain(\n    prompt=query_transform_prompt,\n    output_parser=LoggerStrOutputParser(),\n    llm =llm\n)",
   "metadata": {
    "id": "1eM1zuNUgMPq",
    "execution": {
     "iopub.status.busy": "2024-06-25T23:29:55.303036Z",
     "iopub.execute_input": "2024-06-25T23:29:55.303329Z",
     "iopub.status.idle": "2024-06-25T23:29:55.310899Z",
     "shell.execute_reply.started": "2024-06-25T23:29:55.303302Z",
     "shell.execute_reply": "2024-06-25T23:29:55.309854Z"
    },
    "trusted": true
   },
   "execution_count": 26,
   "outputs": []
  },
  {
   "cell_type": "markdown",
   "source": "initialize the main retrieval chain that gives the resulting documents to LLM and gets the output back.",
   "metadata": {}
  },
  {
   "cell_type": "code",
   "source": "from langchain.chains.combine_documents import create_stuff_documents_chain\n\nfrom langchain_core.runnables import RunnablePassthrough\n\nprompt = PromptTemplate(\n    input_variables=[\"context\", \"messages\"],\n    template=\"\"\"<|system|>You are a helpful assistant.\n\nHere are the movies you MUST choose from:\n\n{context}\n-----------------\n{messages}\n<|assistant|>\"\"\")\n\n# helped from https://python.langchain.com/v0.1/docs/modules/data_connection/retrievers/\n# init the retriver chain\ncontext_chain = (\n    {\"context\": retriever, \"messages\": RunnablePassthrough()}\n    | prompt\n    | llm\n    | StrOutputParser()\n)",
   "metadata": {
    "id": "KwMTLauLS7m0",
    "execution": {
     "iopub.status.busy": "2024-06-25T23:29:55.314045Z",
     "iopub.execute_input": "2024-06-25T23:29:55.314314Z",
     "iopub.status.idle": "2024-06-25T23:29:55.344696Z",
     "shell.execute_reply.started": "2024-06-25T23:29:55.314288Z",
     "shell.execute_reply": "2024-06-25T23:29:55.343964Z"
    },
    "trusted": true
   },
   "execution_count": 27,
   "outputs": []
  },
  {
   "cell_type": "markdown",
   "source": "write the conversation helper class for easier testing.",
   "metadata": {}
  },
  {
   "cell_type": "code",
   "source": "class Conversation:\n    def __init__(self):\n        self.messages = []\n\n    def add_assistant_message(self, message):\n        self.messages.append(('assistant', message))\n\n    def add_user_message(self, message):\n        self.messages.append(('user', message))\n\n    def get_messages(self):\n        # concatenate the messages with the roles in the instruction format\n        return \"\\n\".join([f\"{role}: {msg}\" for role, msg in self.messages])\n\n    def chat(self, message):\n        self.add_user_message(message)\n        messages = self.get_messages()\n        # invoke the chain\n        response = context_chain.invoke(messages)\n        self.add_assistant_message(response)\n        return response",
   "metadata": {
    "id": "zhttNbN0U0WF",
    "execution": {
     "iopub.status.busy": "2024-06-25T23:29:55.345749Z",
     "iopub.execute_input": "2024-06-25T23:29:55.346071Z",
     "iopub.status.idle": "2024-06-25T23:29:55.354131Z",
     "shell.execute_reply.started": "2024-06-25T23:29:55.346035Z",
     "shell.execute_reply": "2024-06-25T23:29:55.353277Z"
    },
    "trusted": true
   },
   "execution_count": 28,
   "outputs": []
  },
  {
   "cell_type": "markdown",
   "source": "## Test",
   "metadata": {}
  },
  {
   "cell_type": "markdown",
   "source": "talk with the RAG to see how good it performs.",
   "metadata": {}
  },
  {
   "cell_type": "code",
   "source": "c = Conversation()\nA = c.chat('give me a cool gangster movie')\nprint(A)",
   "metadata": {
    "colab": {
     "base_uri": "https://localhost:8080/"
    },
    "id": "g8XV3HvhVTNu",
    "outputId": "b96ea4b1-8d98-4a03-9e67-a41c7a2b3829",
    "execution": {
     "iopub.status.busy": "2024-06-25T23:29:55.355159Z",
     "iopub.execute_input": "2024-06-25T23:29:55.355430Z",
     "iopub.status.idle": "2024-06-25T23:30:08.720429Z",
     "shell.execute_reply.started": "2024-06-25T23:29:55.355407Z",
     "shell.execute_reply": "2024-06-25T23:30:08.719458Z"
    },
    "trusted": true
   },
   "execution_count": 29,
   "outputs": [
    {
     "name": "stderr",
     "text": "Truncation was not explicitly activated but `max_length` is provided a specific value, please use `truncation=True` to explicitly truncate examples to max length. Defaulting to 'longest_first' truncation strategy. If you encode pairs of sequences (GLUE-style) with the tokenizer you can select this strategy more precisely by providing a specific strategy to `truncation`.\n",
     "output_type": "stream"
    },
    {
     "name": "stdout",
     "text": "<|system|>You are a helpful assistant.\n\nHere are the movies you MUST choose from:\n\n[Document(page_content=\"id: tt0765429\\ntitle: American Gangster\\nfirst_page_summary: An outcast New York City cop is charged with bringing down Harlem drug lord Frank Lucas, whose real life inspired this partly biographical film.\\ngenres: ['Biography', 'Crime', 'Drama']\", metadata={'source': 'data/imdb.csv', 'row': 2433}), Document(page_content='id: tt0102603\\ntitle: Oscar\\nfirst_page_summary: A gangster attempts to keep the promise he made to his dying father: that he would give up his life of crime and \"go straight\".\\ngenres: [\\'Comedy\\', \\'Crime\\']', metadata={'source': 'data/imdb.csv', 'row': 9856}), Document(page_content='id: tt1166168\\ntitle: Al imbrator\\nfirst_page_summary: A remake of \"scarface\",tells the turbulant world of drug dealing,damaged personal relationships,and the rise and the fall of a drug lord.\\ngenres: [\\'Crime\\', \\'Drama\\']', metadata={'source': 'data/imdb.csv', 'row': 4197}), Document(page_content=\"id: tt0026393\\ntitle: 'G' Men\\nfirst_page_summary: James Cagney helped jump-start the gangster genre as The Public Enemy. Outcries against movies that glorified underworld criminals put Cagney on the side of the law in 'G' Men.\\ngenres: ['Crime', 'Drama', 'Film-Noir']\", metadata={'source': 'data/imdb.csv', 'row': 4203})]\n-----------------\nuser: give me a cool gangster movie\n<|assistant|>\nBased on the movie options provided, I would recommend \"American Gangster\" (ID: tt0765429) as a cool gangster movie. It's a biographical crime drama that tells the story of Frank Lucas, a real-life Harlem drug lord, and his efforts to bring down the criminal empire he built. The movie features a talented cast, including Denzel Washington and Russell Crowe, and is directed by Ridley Scott. The genre mix of biography, crime, and drama adds depth and complexity to the story, making it a captivating and engaging watch.\n",
     "output_type": "stream"
    }
   ]
  },
  {
   "cell_type": "code",
   "source": "A = c.chat('give me a newer one')\nprint(A)",
   "metadata": {
    "colab": {
     "base_uri": "https://localhost:8080/"
    },
    "id": "cC0Sz0Nbl_Zr",
    "outputId": "092b4108-3ace-4261-ca52-108828ec3e3b",
    "execution": {
     "iopub.status.busy": "2024-06-25T23:30:08.721738Z",
     "iopub.execute_input": "2024-06-25T23:30:08.722087Z",
     "iopub.status.idle": "2024-06-25T23:30:27.448052Z",
     "shell.execute_reply.started": "2024-06-25T23:30:08.722060Z",
     "shell.execute_reply": "2024-06-25T23:30:27.446859Z"
    },
    "trusted": true
   },
   "execution_count": 30,
   "outputs": [
    {
     "name": "stdout",
     "text": "<|system|>You are a helpful assistant.\n\nHere are the movies you MUST choose from:\n\n[Document(page_content=\"id: tt0765429\\ntitle: American Gangster\\nfirst_page_summary: An outcast New York City cop is charged with bringing down Harlem drug lord Frank Lucas, whose real life inspired this partly biographical film.\\ngenres: ['Biography', 'Crime', 'Drama']\", metadata={'source': 'data/imdb.csv', 'row': 2433}), Document(page_content=\"id: tt0026393\\ntitle: 'G' Men\\nfirst_page_summary: James Cagney helped jump-start the gangster genre as The Public Enemy. Outcries against movies that glorified underworld criminals put Cagney on the side of the law in 'G' Men.\\ngenres: ['Crime', 'Drama', 'Film-Noir']\", metadata={'source': 'data/imdb.csv', 'row': 4203}), Document(page_content='id: tt1166168\\ntitle: Al imbrator\\nfirst_page_summary: A remake of \"scarface\",tells the turbulant world of drug dealing,damaged personal relationships,and the rise and the fall of a drug lord.\\ngenres: [\\'Crime\\', \\'Drama\\']', metadata={'source': 'data/imdb.csv', 'row': 4197}), Document(page_content='id: tt0102603\\ntitle: Oscar\\nfirst_page_summary: A gangster attempts to keep the promise he made to his dying father: that he would give up his life of crime and \"go straight\".\\ngenres: [\\'Comedy\\', \\'Crime\\']', metadata={'source': 'data/imdb.csv', 'row': 9856})]\n-----------------\nuser: give me a cool gangster movie\nassistant: <|system|>You are a helpful assistant.\n\nHere are the movies you MUST choose from:\n\n[Document(page_content=\"id: tt0765429\\ntitle: American Gangster\\nfirst_page_summary: An outcast New York City cop is charged with bringing down Harlem drug lord Frank Lucas, whose real life inspired this partly biographical film.\\ngenres: ['Biography', 'Crime', 'Drama']\", metadata={'source': 'data/imdb.csv', 'row': 2433}), Document(page_content='id: tt0102603\\ntitle: Oscar\\nfirst_page_summary: A gangster attempts to keep the promise he made to his dying father: that he would give up his life of crime and \"go straight\".\\ngenres: [\\'Comedy\\', \\'Crime\\']', metadata={'source': 'data/imdb.csv', 'row': 9856}), Document(page_content='id: tt1166168\\ntitle: Al imbrator\\nfirst_page_summary: A remake of \"scarface\",tells the turbulant world of drug dealing,damaged personal relationships,and the rise and the fall of a drug lord.\\ngenres: [\\'Crime\\', \\'Drama\\']', metadata={'source': 'data/imdb.csv', 'row': 4197}), Document(page_content=\"id: tt0026393\\ntitle: 'G' Men\\nfirst_page_summary: James Cagney helped jump-start the gangster genre as The Public Enemy. Outcries against movies that glorified underworld criminals put Cagney on the side of the law in 'G' Men.\\ngenres: ['Crime', 'Drama', 'Film-Noir']\", metadata={'source': 'data/imdb.csv', 'row': 4203})]\n-----------------\nuser: give me a cool gangster movie\n<|assistant|>\nBased on the movie options provided, I would recommend \"American Gangster\" (ID: tt0765429) as a cool gangster movie. It's a biographical crime drama that tells the story of Frank Lucas, a real-life Harlem drug lord, and his efforts to bring down the criminal empire he built. The movie features a talented cast, including Denzel Washington and Russell Crowe, and is directed by Ridley Scott. The genre mix of biography, crime, and drama adds depth and complexity to the story, making it a captivating and engaging watch.\nuser: give me a newer one\n<|assistant|>\nBased on your preference for a newer movie, I would suggest \"The Irishman\" (ID: tt8462224) as a cool gangster movie. Released in 2019, it's a crime drama directed by Martin Scorsese and features an all-star cast including Robert De Niro, Al Pacino, and Joe Pesci. The movie is based on the true story of Frank Sheeran, a hitman and labor union leader, and his alleged involvement in the disappearance of Jimmy Hoffa. The movie's use of de-aging technology to make the actors appear younger in certain scenes adds a unique and visually stunning element to the story.\n",
     "output_type": "stream"
    }
   ]
  }
 ]
}
